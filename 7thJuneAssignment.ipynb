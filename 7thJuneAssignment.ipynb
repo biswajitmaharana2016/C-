{
  "nbformat": 4,
  "nbformat_minor": 0,
  "metadata": {
    "colab": {
      "provenance": [],
      "authorship_tag": "ABX9TyPe7iUBEWC1ww1Bmscmlp7A",
      "include_colab_link": true
    },
    "kernelspec": {
      "name": "python3",
      "display_name": "Python 3"
    },
    "language_info": {
      "name": "python"
    }
  },
  "cells": [
    {
      "cell_type": "markdown",
      "metadata": {
        "id": "view-in-github",
        "colab_type": "text"
      },
      "source": [
        "<a href=\"https://colab.research.google.com/github/biswajitmaharana2016/C-/blob/master/7thJuneAssignment.ipynb\" target=\"_parent\"><img src=\"https://colab.research.google.com/assets/colab-badge.svg\" alt=\"Open In Colab\"/></a>"
      ]
    },
    {
      "cell_type": "code",
      "execution_count": 1,
      "metadata": {
        "id": "Yhl4B2o2mOVf",
        "colab": {
          "base_uri": "https://localhost:8080/"
        },
        "outputId": "a0630c67-5336-4a26-9938-1154ae1b8b32"
      },
      "outputs": [
        {
          "output_type": "stream",
          "name": "stdout",
          "text": [
            "Name: Buddy, Color: Brown, Age: 3\n"
          ]
        }
      ],
      "source": [
        "''' Q1. Create a dog object that will inherit all the variables and methods of the parent class Animal and display it '''\n",
        "class Animal:\n",
        "    def __init__(self, name, color, age):\n",
        "        self.name = name\n",
        "        self.color = color\n",
        "        self.age = age\n",
        "    def display(self):\n",
        "        print(f\"Name: {self.name}, Color: {self.color}, Age: {self.age}\")\n",
        "class Dog(Animal):\n",
        "    def __init__(self, name, color, age, breed):\n",
        "        super().__init__(name, color, age)\n",
        "        self.breed = breed\n",
        "    def Bark(self):\n",
        "        print(\"Woof! Woof!\")\n",
        "dog1 = Dog(\"Buddy\", \"Brown\", 3, \"Labrador\")\n",
        "dog1.display()"
      ]
    },
    {
      "cell_type": "code",
      "source": [
        "''' Q2. Demonstrate the working of Polymorphism by creating two classes -Car and Bike. Display the information like name, color, and number of wheels '''\n",
        "class Vehicle:\n",
        "    def display(self):\n",
        "        pass\n",
        "class Car(Vehicle):\n",
        "    def __init__(self, name, color, wheels):\n",
        "        self.name = name\n",
        "        self.color = color\n",
        "        self.wheels = wheels\n",
        "    def display(self):\n",
        "        print(f\"Name: {self.name}, Color: {self.color}, Number of Wheels: {self.wheels}\")\n",
        "class Bike(Vehicle):\n",
        "    def __init__(self, name, color, wheels):\n",
        "        self.name = name\n",
        "        self.color = color\n",
        "        self.wheels = wheels\n",
        "    def display(self):\n",
        "        print(f\"Name: {self.name}, Color: {self.color}, Number of Wheels: {self.wheels}\")\n",
        "\n",
        "def display_info(vehicle):\n",
        "    vehicle.display()\n",
        "\n",
        "car1 = Car(\"Toyota Camry\", \"Blue\", 4)\n",
        "bike1 = Bike(\"Mountain Bike\", \"Red\", 2)\n",
        "\n",
        "display_info(car1)\n",
        "display_info(bike1)"
      ],
      "metadata": {
        "colab": {
          "base_uri": "https://localhost:8080/"
        },
        "id": "RY4M4NTgohAQ",
        "outputId": "4db6be1a-72ed-479d-8e58-e7be3647939f"
      },
      "execution_count": 2,
      "outputs": [
        {
          "output_type": "stream",
          "name": "stdout",
          "text": [
            "Name: Toyota Camry, Color: Blue, Number of Wheels: 4\n",
            "Name: Mountain Bike, Color: Red, Number of Wheels: 2\n"
          ]
        }
      ]
    },
    {
      "cell_type": "code",
      "source": [
        "'''Q3. Create a list of tuples containing the 5 planets of our solar system along with their moons as-earth having 1 moon, Jupiter having 79 moons, Saturnhaving 82 moons, Uranushaving 27 moons and Neptunehaving 14 moons.Sort the list according to the ascending number of moons along with the names of planet using Lambda function. Display both original and sorted list.'''\n",
        "planets = [\n",
        "    (\"Earth\", 1),\n",
        "    (\"Jupiter\", 79),\n",
        "    (\"Saturn\", 82),\n",
        "    (\"Uranus\", 27),\n",
        "    (\"Neptune\", 14)\n",
        "]\n",
        "\n",
        "sorted_planets = sorted(planets, key=lambda x: x[1])\n",
        "\n",
        "print(\"Original List:\")\n",
        "print(planets)\n",
        "\n",
        "print(\"\\nSorted List:\")\n",
        "print(sorted_planets)\n"
      ],
      "metadata": {
        "id": "wa-2cTXkrnXw"
      },
      "execution_count": null,
      "outputs": []
    },
    {
      "cell_type": "code",
      "source": [
        "''' Q4.Create two functions -fillup and use, which uses a global variable as tank. Use the global variable in both the functions to return the quantity of fuel present in the tank after filling up the tank and after using the fuel of the tank. Show the working of two functions only. It is not necessary to display the outputs.'''\n",
        "\n",
        "tank =0\n",
        "# Function to fill up the tank\n",
        "def fillup(amount):\n",
        "    global tank\n",
        "    tank += amount\n",
        "    return tank\n",
        "\n",
        "# Function to use fuel from the tank\n",
        "def use(amount):\n",
        "    global tank\n",
        "    if amount <= tank:\n",
        "        tank -= amount\n",
        "    else:\n",
        "        print(\"Not enough fuel!\")\n",
        "    return tank\n"
      ],
      "metadata": {
        "id": "dW5Lu5Fe4Kh1"
      },
      "execution_count": 3,
      "outputs": []
    },
    {
      "cell_type": "code",
      "source": [
        "'''Q5. Write a program to depict the use of multiple inheritance. The program should contain 4 classes -class 4 should inherit from class 2 and class 3. Similarly, class 2 should inherit from class 1. Class 3 should inherit from class 1. Each class should have its own print statement.'''\n",
        "class Class1:\n",
        "    def __init__(self):\n",
        "        print(\"Constructor of Class1\")\n",
        "\n",
        "class Class2(Class1):\n",
        "    def __init__(self):\n",
        "        super().__init__()\n",
        "        print(\"Constructor of Class2\")\n",
        "\n",
        "class Class3(Class1):\n",
        "    def __init__(self):\n",
        "        super().__init__()\n",
        "        print(\"Constructor of Class3\")\n",
        "\n",
        "class Class4(Class2, Class3):\n",
        "    def __init__(self):\n",
        "        super().__init__()\n",
        "        print(\"Constructor of Class4\")\n",
        "\n",
        "# Create object of Class4 to demonstrate the constructor calls\n",
        "obj = Class4()\n"
      ],
      "metadata": {
        "colab": {
          "base_uri": "https://localhost:8080/"
        },
        "id": "cIHyAKQF46Ds",
        "outputId": "3cdf5608-40b9-4766-f202-c2204785cc3f"
      },
      "execution_count": 10,
      "outputs": [
        {
          "output_type": "stream",
          "name": "stdout",
          "text": [
            "Constructor of Class1\n",
            "Constructor of Class3\n",
            "Constructor of Class2\n",
            "Constructor of Class4\n"
          ]
        }
      ]
    },
    {
      "cell_type": "code",
      "source": [
        "'''Q6. Use Getter and Setter method to set the name and age of a person. Moreover, get the name and age of the same person'''\n",
        "class Person:\n",
        "    def __init__(self):\n",
        "        self._name = None  # Protected attribute\n",
        "        self._age = None\n",
        "\n",
        "    # Setter for name\n",
        "    def set_name(self, name):\n",
        "        self._name = name\n",
        "\n",
        "    # Getter for name\n",
        "    def get_name(self):\n",
        "        return self._name\n",
        "\n",
        "    # Setter for age\n",
        "    def set_age(self, age):\n",
        "        if age >= 0:\n",
        "            self._age = age\n",
        "        else:\n",
        "            print(\"Age cannot be negative\")\n",
        "\n",
        "    # Getter for age\n",
        "    def get_age(self):\n",
        "        return self._age\n",
        "\n",
        "# Create a Person object\n",
        "p = Person()\n",
        "\n",
        "# Set name and age using setters\n",
        "p.set_name(\"Alice\")\n",
        "p.set_age(25)\n",
        "\n",
        "# Get name and age using getters\n",
        "print(\"Name:\", p.get_name())\n",
        "print(\"Age:\", p.get_age())"
      ],
      "metadata": {
        "colab": {
          "base_uri": "https://localhost:8080/"
        },
        "id": "QSLbGgh07bIs",
        "outputId": "03f773e3-c466-4c59-d22b-ae374ad7e130"
      },
      "execution_count": 11,
      "outputs": [
        {
          "output_type": "stream",
          "name": "stdout",
          "text": [
            "Name: Alice\n",
            "Age: 25\n"
          ]
        }
      ]
    }
  ]
}