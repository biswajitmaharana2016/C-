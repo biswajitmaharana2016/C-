{
  "nbformat": 4,
  "nbformat_minor": 0,
  "metadata": {
    "colab": {
      "provenance": [],
      "toc_visible": true,
      "authorship_tag": "ABX9TyMcK6WCBfP8GaX6of9KdOjC",
      "include_colab_link": true
    },
    "kernelspec": {
      "name": "python3",
      "display_name": "Python 3"
    },
    "language_info": {
      "name": "python"
    }
  },
  "cells": [
    {
      "cell_type": "markdown",
      "metadata": {
        "id": "view-in-github",
        "colab_type": "text"
      },
      "source": [
        "<a href=\"https://colab.research.google.com/github/biswajitmaharana2016/C-/blob/master/Assignment28thJune.ipynb\" target=\"_parent\"><img src=\"https://colab.research.google.com/assets/colab-badge.svg\" alt=\"Open In Colab\"/></a>"
      ]
    },
    {
      "cell_type": "code",
      "execution_count": 1,
      "metadata": {
        "id": "JARgo5UNksg2"
      },
      "outputs": [],
      "source": [
        "import math"
      ]
    },
    {
      "cell_type": "code",
      "source": [
        "#Q1.A Robot moves in a Plane starting from the origin point (0,0).\n",
        "#The robot can move UP, DOWN, LEFT, and RIGHT. The trace of Robot movement is as given following:UP 5DOWN 3LEFT 3RIGHT\n",
        "#2(The numbers after directions are steps)  Write a program to compute the current distance from the origin point after sequencing of movements.Hint:Use the math module\n",
        "# Movement instructions\n",
        "movements = [\"UP 5\", \"DOWN 3\", \"LEFT 3\", \"RIGHT 2\"]\n",
        "\n",
        "# Initialize starting position\n",
        "x = 0\n",
        "y = 0\n",
        "\n",
        "# Process each movement\n",
        "for move in movements:\n",
        "    direction, steps = move.split()\n",
        "    steps = int(steps)\n",
        "\n",
        "    if direction == \"UP\":\n",
        "        y += steps\n",
        "    elif direction == \"DOWN\":\n",
        "        y -= steps\n",
        "    elif direction == \"LEFT\":\n",
        "        x -= steps\n",
        "    elif direction == \"RIGHT\":\n",
        "        x += steps\n",
        "\n",
        "# Calculate distance from origin using Pythagoras Theorem\n",
        "distance = math.sqrt(x**2 + y**2)\n",
        "\n",
        "print(\"Current distance from origin:\", round(distance, 2))"
      ],
      "metadata": {
        "colab": {
          "base_uri": "https://localhost:8080/"
        },
        "id": "o0sG4fZ0lI5P",
        "outputId": "6da71d9c-3106-4d23-937a-6fea79e54023"
      },
      "execution_count": 3,
      "outputs": [
        {
          "output_type": "stream",
          "name": "stdout",
          "text": [
            "Current distance from origin: 2.24\n"
          ]
        }
      ]
    },
    {
      "cell_type": "code",
      "source": [
        "#2.Data of XYZ company is stored in a sorted list. Write a program to search for specific data from that list.Hint:Use if/elifto deal with conditions.\n",
        "\n",
        "xyz=[1,2,3,4,5,6,7,8,9,10]\n",
        "\n",
        "search_item = int(input(\"Enter the item to search: \"))\n",
        "\n",
        "if search_item in xyz:\n",
        "    print(f\"{search_item} is present in the list.\")\n",
        "elif search_item > xyz[-1]:\n",
        "    print(f\"{search_item} is not present in the list.Might be after last item\")\n",
        "elif search_item < xyz[0]:\n",
        "    print(f\"{search_item} is not present in the list.Might be before first item\")\n",
        "else:\n",
        "    print(f\"{search_item} is not present in the list.\")"
      ],
      "metadata": {
        "colab": {
          "base_uri": "https://localhost:8080/"
        },
        "id": "C0hHQqUvlm1I",
        "outputId": "65d04385-a07a-4b3e-a719-c8754cf87b4c"
      },
      "execution_count": 5,
      "outputs": [
        {
          "output_type": "stream",
          "name": "stdout",
          "text": [
            "Enter the item to search: 4\n",
            "4 is present in the list.\n"
          ]
        }
      ]
    },
    {
      "cell_type": "code",
      "source": [
        "#3.A weather forecasting organization wants to show whether it is day or night. Write a program to findwhether is it dark outside or notbased on the local system time.\n",
        "import time\n",
        "\n",
        "current_time = time.localtime()\n",
        "\n",
        "print(current_time)\n",
        "\n",
        "if current_time.tm_hour >= 6 and current_time.tm_hour < 18:\n",
        "    print(\"Now its a day time\")\n",
        "else:\n",
        "    print(\"Now its a night time\")\n"
      ],
      "metadata": {
        "id": "rQFjizafoK9a"
      },
      "execution_count": null,
      "outputs": []
    },
    {
      "cell_type": "code",
      "source": [
        "#4.Write a program to find the distancebetween two locations when their latitude and longitudes are given.\n",
        "import math\n",
        "\n",
        "latitude = float(input(\"Enter the latitude: \"))\n",
        "longitude = float(input(\"Enter the longitude: \"))\n",
        "\n",
        "latitude1 = float(input(\"Enter the latitude: \"))\n",
        "longitude1 = float(input(\"Enter the longitude: \"))\n",
        "\n",
        "\n",
        "distance = 6371.01 * math.acos(math.sin(math.radians(latitude)) * math.sin(math.radians(latitude1)))\n",
        "distance += math.cos(math.radians(latitude)) * math.cos(math.radians(latitude1))\n",
        "distance *= math.sin(math.radians(longitude - longitude1) / 2) ** 2\n",
        "\n",
        "print(f\"The distance between the two locations is {distance} km\")"
      ],
      "metadata": {
        "colab": {
          "base_uri": "https://localhost:8080/"
        },
        "id": "McCkUQKtopTl",
        "outputId": "d4535e70-3017-4170-8182-f5589c6e86fe"
      },
      "execution_count": 7,
      "outputs": [
        {
          "output_type": "stream",
          "name": "stdout",
          "text": [
            "Enter the latitude: 4\n",
            "Enter the longitude: 5\n",
            "Enter the latitude: 31\n",
            "Enter the longitude: 32\n",
            "The distance between the two locations is 532.9493284601928 km\n"
          ]
        }
      ]
    },
    {
      "cell_type": "markdown",
      "source": [
        "# New Section"
      ],
      "metadata": {
        "id": "y1uonYUxk5B4"
      }
    }
  ]
}