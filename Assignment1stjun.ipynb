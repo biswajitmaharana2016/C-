{
  "nbformat": 4,
  "nbformat_minor": 0,
  "metadata": {
    "colab": {
      "provenance": [],
      "authorship_tag": "ABX9TyMVv9Ro/81Tu6QsM/VfcJaZ",
      "include_colab_link": true
    },
    "kernelspec": {
      "name": "python3",
      "display_name": "Python 3"
    },
    "language_info": {
      "name": "python"
    }
  },
  "cells": [
    {
      "cell_type": "markdown",
      "metadata": {
        "id": "view-in-github",
        "colab_type": "text"
      },
      "source": [
        "<a href=\"https://colab.research.google.com/github/biswajitmaharana2016/C-/blob/master/Assignment1stjun.ipynb\" target=\"_parent\"><img src=\"https://colab.research.google.com/assets/colab-badge.svg\" alt=\"Open In Colab\"/></a>"
      ]
    },
    {
      "cell_type": "code",
      "execution_count": null,
      "metadata": {
        "id": "8S8-o4m0wHMN"
      },
      "outputs": [],
      "source": [
        "'''Q1. Write a program to find the factors of agiven number and check whether the factor is even or odd.'''\n",
        "def is_even(n):\n",
        "  return n % 2 == 0\n"
      ]
    },
    {
      "cell_type": "code",
      "source": [
        "def factor_clasify_number(num):\n",
        "  print(f\"Factors of {num} and their parity:\")\n",
        "  for i in range(1, num + 1):\n",
        "    if num % i == 0:\n",
        "       if( is_even(i)):\n",
        "          print(i,' factor is even')\n",
        "       else:\n",
        "          print(i,' factor is odd')\n"
      ],
      "metadata": {
        "id": "wjHZPGH8xVsY"
      },
      "execution_count": null,
      "outputs": []
    },
    {
      "cell_type": "code",
      "source": [
        "def main():\n",
        "  number =eval(input())\n",
        "  factor_clasify_number(number)\n",
        "main()\n"
      ],
      "metadata": {
        "colab": {
          "base_uri": "https://localhost:8080/"
        },
        "id": "xas_pY2BycFw",
        "outputId": "136f7159-460b-4109-b6bd-173a0f928909"
      },
      "execution_count": null,
      "outputs": [
        {
          "output_type": "stream",
          "name": "stdout",
          "text": [
            "10\n",
            "Factors of 10 and their parity:\n",
            "1  factor is odd\n",
            "2  factor is even\n",
            "5  factor is odd\n",
            "10  factor is even\n"
          ]
        }
      ]
    },
    {
      "cell_type": "code",
      "source": [
        "'''Q2.Write a code that accepts a sequence of words as input and prints the words in a sequence after sorting them alphabetically.'''\n",
        "\n",
        "input_string = input(\"Enter the sentence\")\n",
        "words = input_string.split()\n",
        "words.sort()\n",
        "sorted_sentence = ' '.join(words)\n",
        "print(sorted_sentence)\n"
      ],
      "metadata": {
        "colab": {
          "base_uri": "https://localhost:8080/"
        },
        "id": "mdFnVz8EzpYc",
        "outputId": "be1efe97-32d2-4190-c942-bb7f9e01e046"
      },
      "execution_count": null,
      "outputs": [
        {
          "output_type": "stream",
          "name": "stdout",
          "text": [
            "Enter the sentenceWorld Hello\n",
            "Hello World\n"
          ]
        }
      ]
    },
    {
      "cell_type": "code",
      "source": [
        "'''Q3. Write a program that will find all the numbers between 1000 and 3000 (both excluded) such that each digit of a number is an odd number. Print the number of such elements'''\n",
        "odd_digits_in_number = lambda num : [ num for num in range(1001, 3000) if all(int(digit) % 2 != 0 for digit in str(num))]\n",
        "print(odd_digits_in_number(1234))\n"
      ],
      "metadata": {
        "colab": {
          "base_uri": "https://localhost:8080/"
        },
        "id": "DvdBix9p0CBD",
        "outputId": "bb25b3e9-9bd7-499c-c6a6-74059d4bd24d"
      },
      "execution_count": null,
      "outputs": [
        {
          "output_type": "stream",
          "name": "stdout",
          "text": [
            "[1111, 1113, 1115, 1117, 1119, 1131, 1133, 1135, 1137, 1139, 1151, 1153, 1155, 1157, 1159, 1171, 1173, 1175, 1177, 1179, 1191, 1193, 1195, 1197, 1199, 1311, 1313, 1315, 1317, 1319, 1331, 1333, 1335, 1337, 1339, 1351, 1353, 1355, 1357, 1359, 1371, 1373, 1375, 1377, 1379, 1391, 1393, 1395, 1397, 1399, 1511, 1513, 1515, 1517, 1519, 1531, 1533, 1535, 1537, 1539, 1551, 1553, 1555, 1557, 1559, 1571, 1573, 1575, 1577, 1579, 1591, 1593, 1595, 1597, 1599, 1711, 1713, 1715, 1717, 1719, 1731, 1733, 1735, 1737, 1739, 1751, 1753, 1755, 1757, 1759, 1771, 1773, 1775, 1777, 1779, 1791, 1793, 1795, 1797, 1799, 1911, 1913, 1915, 1917, 1919, 1931, 1933, 1935, 1937, 1939, 1951, 1953, 1955, 1957, 1959, 1971, 1973, 1975, 1977, 1979, 1991, 1993, 1995, 1997, 1999]\n"
          ]
        }
      ]
    },
    {
      "cell_type": "code",
      "source": [
        "'''Q4. Write a program that accepts a stringand calculatesthe number of letters and digits'''\n"
      ],
      "metadata": {
        "id": "qosGusWf0BsT"
      },
      "execution_count": null,
      "outputs": []
    }
  ]
}