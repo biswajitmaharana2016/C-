{
  "nbformat": 4,
  "nbformat_minor": 0,
  "metadata": {
    "colab": {
      "provenance": [],
      "include_colab_link": true
    },
    "kernelspec": {
      "name": "python3",
      "display_name": "Python 3"
    },
    "language_info": {
      "name": "python"
    }
  },
  "cells": [
    {
      "cell_type": "markdown",
      "metadata": {
        "id": "view-in-github",
        "colab_type": "text"
      },
      "source": [
        "<a href=\"https://colab.research.google.com/github/biswajitmaharana2016/C-/blob/master/Numpy_21stJune2025_x5viml.ipynb\" target=\"_parent\"><img src=\"https://colab.research.google.com/assets/colab-badge.svg\" alt=\"Open In Colab\"/></a>"
      ]
    },
    {
      "cell_type": "code",
      "execution_count": null,
      "metadata": {
        "id": "IT2bDN6QpMmo"
      },
      "outputs": [],
      "source": [
        "'''\n",
        "What is Data Science?\n",
        "Study of data\n",
        "DAta science is a branch of science which deals with data collection, interpretation and evalaution\n",
        "to generate business insights or inferences.\n",
        "\n",
        "Data Science = Programming + Domain or business knowlegde + Mathematics (statistics, linear algebra)\n",
        "\n",
        "Task: Find out what are different courses we can start in Edureka in future.\n",
        "\n",
        "1. Send a survey over different social media n/w's (e.g: facebook, twitter, whatspp, insta...) = data collection\n",
        "2. Collect the survey responses from these social media n/w's.  =  data collection\n",
        "3. Make sure data in different formats converge to common format = data transformation\n",
        "removing duplicating data , incorrect data, inconsistent data, missing data - data preprocessing\n",
        "4. Data analysis and manipulation = Data analysis\n",
        "5. Present data in a way where business users can understand - Data visualization\n",
        "\n",
        "Data Science life cycle:\n",
        "Data Collection or Data Aquisition - pandas, numpy\n",
        "Data Preprocessing or data cleaning - pandas\n",
        "DAta transformation - pandas\n",
        "Data analysis - pandas\n",
        "Data Visualization - matplotlib, seaborn\n",
        "\n",
        "Data science = Statistics + technology tools (Python, Data science)\n",
        "'''"
      ]
    },
    {
      "cell_type": "code",
      "source": [
        "!pip install numpy"
      ],
      "metadata": {
        "id": "bSpLHiI6wJS2"
      },
      "execution_count": null,
      "outputs": []
    },
    {
      "cell_type": "code",
      "source": [
        "%timeit"
      ],
      "metadata": {
        "id": "TzYi6i7ewV3R"
      },
      "execution_count": null,
      "outputs": []
    },
    {
      "cell_type": "code",
      "source": [],
      "metadata": {
        "id": "OP9e3wHv_pJt"
      },
      "execution_count": null,
      "outputs": []
    }
  ]
}