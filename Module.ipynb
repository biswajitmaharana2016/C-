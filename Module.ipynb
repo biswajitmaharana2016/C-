{
  "nbformat": 4,
  "nbformat_minor": 0,
  "metadata": {
    "colab": {
      "provenance": [],
      "authorship_tag": "ABX9TyM3I0D/xs9D19H2qZjuubUH",
      "include_colab_link": true
    },
    "kernelspec": {
      "name": "python3",
      "display_name": "Python 3"
    },
    "language_info": {
      "name": "python"
    }
  },
  "cells": [
    {
      "cell_type": "markdown",
      "metadata": {
        "id": "view-in-github",
        "colab_type": "text"
      },
      "source": [
        "<a href=\"https://colab.research.google.com/github/biswajitmaharana2016/C-/blob/master/Module.ipynb\" target=\"_parent\"><img src=\"https://colab.research.google.com/assets/colab-badge.svg\" alt=\"Open In Colab\"/></a>"
      ]
    },
    {
      "cell_type": "code",
      "execution_count": 1,
      "metadata": {
        "id": "7uxfqH73GxKh",
        "outputId": "51fe1c6d-55ac-4e79-ab4c-319bc976317b",
        "colab": {
          "base_uri": "https://localhost:8080/"
        }
      },
      "outputs": [
        {
          "output_type": "stream",
          "name": "stdout",
          "text": [
            "120\n"
          ]
        },
        {
          "output_type": "execute_result",
          "data": {
            "text/plain": [
              "113.0"
            ]
          },
          "metadata": {},
          "execution_count": 1
        }
      ],
      "source": [
        "import math\n",
        "\n",
        "print(math.factorial(5))\n",
        "\n",
        "from math import fabs as f , sqrt as s\n",
        "\n",
        "f(-113)"
      ]
    },
    {
      "cell_type": "code",
      "source": [
        "from math import factorial\n",
        "factorial(5)\n",
        "\n",
        "def factorial():\n",
        ""
      ],
      "metadata": {
        "id": "V0PXlWg8K1pF"
      },
      "execution_count": null,
      "outputs": []
    }
  ]
}